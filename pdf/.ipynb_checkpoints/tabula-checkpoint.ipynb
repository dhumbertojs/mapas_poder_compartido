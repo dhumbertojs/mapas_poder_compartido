{
 "cells": [
  {
   "cell_type": "code",
   "execution_count": 1,
   "metadata": {},
   "outputs": [],
   "source": [
    "import tabula\n",
    "import pandas as pd"
   ]
  },
  {
   "cell_type": "code",
   "execution_count": 5,
   "metadata": {},
   "outputs": [
    {
     "name": "stderr",
     "output_type": "stream",
     "text": [
      "Got stderr: may 09, 2020 2:13:50 PM org.apache.pdfbox.pdmodel.font.FileSystemFontProvider loadDiskCache\r\n",
      "ADVERTENCIA: New fonts found, font cache will be re-built\r\n",
      "may 09, 2020 2:13:50 PM org.apache.pdfbox.pdmodel.font.FileSystemFontProvider <init>\r\n",
      "ADVERTENCIA: Building on-disk font cache, this may take a while\r\n",
      "may 09, 2020 2:13:51 PM org.apache.pdfbox.pdmodel.font.FileSystemFontProvider <init>\r\n",
      "ADVERTENCIA: Finished building on-disk font cache, found 378 fonts\r\n",
      "\n"
     ]
    }
   ],
   "source": [
    "tabula.convert_into_by_batch(\"bcs\", output_format=\"csv\", pages=\"all\")"
   ]
  },
  {
   "cell_type": "code",
   "execution_count": null,
   "metadata": {},
   "outputs": [],
   "source": []
  }
 ],
 "metadata": {
  "kernelspec": {
   "display_name": "Python 3",
   "language": "python",
   "name": "python3"
  },
  "language_info": {
   "codemirror_mode": {
    "name": "ipython",
    "version": 3
   },
   "file_extension": ".py",
   "mimetype": "text/x-python",
   "name": "python",
   "nbconvert_exporter": "python",
   "pygments_lexer": "ipython3",
   "version": "3.8.2"
  }
 },
 "nbformat": 4,
 "nbformat_minor": 4
}
